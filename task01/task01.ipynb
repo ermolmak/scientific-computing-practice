{
 "cells": [
  {
   "cell_type": "code",
   "execution_count": 1,
   "metadata": {},
   "outputs": [],
   "source": [
    "from fractions import Fraction\n",
    "from collections import namedtuple\n",
    "from numbers import Number\n"
   ]
  },
  {
   "cell_type": "markdown",
   "metadata": {
    "collapsed": true
   },
   "source": [
    "Приведение матрицы к ступенчатому виду методом Гаусса. Предполагается, что элементы имеют тип <code>fractions.Fraction</code>."
   ]
  },
  {
   "cell_type": "code",
   "execution_count": 2,
   "metadata": {},
   "outputs": [],
   "source": [
    "Swap = namedtuple('Swap', ['swap_type', 'first', 'second'])\n",
    "RowAddition = namedtuple('RowAddition', ['source', 'target', 'coefficient'])\n",
    "MaxValueWithPlace = namedtuple('MaxValueWithPlace', ['place', 'value'])\n",
    "\n",
    "\n",
    "def check_equation(matrix, free_column):\n",
    "    if not isinstance(matrix, list):\n",
    "        raise TypeError(\"matrix must be 'list' of 'list's of 'Fraction's\")\n",
    "    if len(matrix) == 0:\n",
    "        raise ValueError('empty matrix')\n",
    "    for line in matrix:\n",
    "        if not isinstance(line, list):\n",
    "            raise TypeError(\"matrix must be 'list' of 'list's of 'Fraction's\")\n",
    "        if not all(map(lambda x: isinstance(x, Fraction), line)):\n",
    "            raise TypeError(\"matrix must be 'list' of 'list's of 'Fraction's\")\n",
    "    row_len = len(matrix[0])\n",
    "    if row_len == 0 or any(map(lambda x: len(x) != row_len, matrix)):\n",
    "        raise ValueError('all rows must have constant non-zero length')\n",
    "\n",
    "    if not isinstance(free_column, list):\n",
    "        raise TypeError(\"free column must be 'list' of 'Fraction's\")\n",
    "    if len(matrix) != len(free_column):\n",
    "        raise ValueError(\"heights of matrix and free column must be equal\")\n",
    "    if not all(map(lambda x: isinstance(x, Fraction), free_column)):\n",
    "        raise TypeError(\"free column must be 'list' of 'Fraction's\")\n",
    "\n",
    "\n",
    "def swap_rows(m, i, j):\n",
    "    m[i], m[j] = m[j], m[i]\n",
    "\n",
    "\n",
    "def swap_columns(m, i, j):\n",
    "    for row in m:\n",
    "        row[i], row[j] = row[j], row[i]\n",
    "\n",
    "\n",
    "def add_row(matrix, source, target, coefficient):\n",
    "    for i in range(len(matrix[0])):\n",
    "        matrix[target][i] += coefficient * matrix[source][i]\n",
    "\n",
    "\n",
    "def find_max(m, start):\n",
    "    res = MaxValueWithPlace(place=(start, start), value=abs(m[start][start]))\n",
    "    for i in range(start, len(m)):\n",
    "        for j in range(start, len(m[i])):\n",
    "            current_value = abs(m[i][j])\n",
    "            if current_value > res.value:\n",
    "                res = MaxValueWithPlace(place=(i, j), value=current_value)\n",
    "    return res\n",
    "\n",
    "\n",
    "def to_row_echelon_form(m):\n",
    "    actions = []\n",
    "    for i in range(min(len(m), len(m[0]))):\n",
    "        max_elem = find_max(m, i)\n",
    "        max_row, max_column = max_elem.place\n",
    "\n",
    "        if max_elem.value == 0:\n",
    "            return actions\n",
    "\n",
    "        if max_row != i:\n",
    "            actions.append(Swap(swap_type='row', first=i,\n",
    "                                second=max_row))\n",
    "            swap_rows(m, i, max_row)\n",
    "\n",
    "        if max_column != i:\n",
    "            actions.append(Swap(swap_type='column', first=i,\n",
    "                                second=max_column))\n",
    "            swap_columns(m, i, max_column)\n",
    "\n",
    "        for row in range(i + 1, len(m)):\n",
    "            if m[row][i] == 0:\n",
    "                continue\n",
    "            coef = -m[row][i] / m[i][i]\n",
    "            actions.append(RowAddition(source=i, target=row, coefficient=coef))\n",
    "            add_row(m, i, row, coef)\n",
    "\n",
    "    return actions\n",
    "\n",
    "\n",
    "def apply_actions_to_column(column, actions):\n",
    "    for action in actions:\n",
    "        if isinstance(action, Swap) and action.swap_type == 'row':\n",
    "            column[action.first], column[action.second] = \\\n",
    "                column[action.second], column[action.first]\n",
    "        elif isinstance(action, RowAddition):\n",
    "            column[action.target] += action.coefficient * column[action.source]\n",
    "\n",
    "\n",
    "def solve(matrix, free_column):\n",
    "    check_equation(matrix, free_column)\n",
    "    actions = to_row_echelon_form(matrix)\n",
    "    apply_actions_to_column(free_column, actions)\n",
    "\n",
    "    col_num = len(matrix[0])\n",
    "    row_num = len(matrix)\n",
    "    solution = [None] * col_num\n",
    "    for row in range(row_num - 1, -1, -1):\n",
    "        new_vars = 0\n",
    "        left_sum = Fraction(0)\n",
    "        new_var_pos = col_num\n",
    "        for column in range(col_num):\n",
    "            if matrix[row][column] != 0:\n",
    "                if solution[column] is None:\n",
    "                    new_vars += 1\n",
    "                    new_var_pos = min(column, new_var_pos)\n",
    "                else:\n",
    "                    left_sum += solution[column] * matrix[row][column]\n",
    "\n",
    "        if new_vars == 0 and left_sum != free_column[row]:\n",
    "            raise ValueError('the equation has no solution')\n",
    "        elif new_vars == 1:\n",
    "            solution[new_var_pos] = (free_column[row] - left_sum) / matrix[row][\n",
    "                new_var_pos]\n",
    "        elif new_vars > 1:\n",
    "            solution[new_var_pos] = []\n",
    "            for column in range(col_num):\n",
    "                if column == new_var_pos:\n",
    "                    solution[new_var_pos].append(Fraction(0))\n",
    "                    continue\n",
    "\n",
    "                if matrix[row][column] != 0 and solution[column] is None:\n",
    "                    solution[new_var_pos].append(\n",
    "                        -matrix[row][column] / matrix[row][new_var_pos])\n",
    "                else:\n",
    "                    solution[new_var_pos].append(Fraction(0))\n",
    "            solution[new_var_pos].append(\n",
    "                (free_column[row] - left_sum) / matrix[row][new_var_pos])\n",
    "\n",
    "    for action in reversed(actions):\n",
    "        if isinstance(action, Swap) and action.swap_type == 'column':\n",
    "            solution[action.first], solution[action.second] = \\\n",
    "                solution[action.second], solution[action.first]\n",
    "    return solution\n"
   ]
  },
  {
   "cell_type": "markdown",
   "metadata": {},
   "source": [
    "Используемые значения"
   ]
  },
  {
   "cell_type": "code",
   "execution_count": 10,
   "metadata": {},
   "outputs": [
    {
     "name": "stdout",
     "output_type": "stream",
     "text": [
      "[0.0, 0.125, 0.25, 0.375, 0.5, 0.625, 0.75, 0.875, 1.0]\n",
      "[0.0, 0.02147, 0.29305, 0.494105, 0.541341, 0.516855, 0.468617, 0.416531, 0.367879]\n"
     ]
    }
   ],
   "source": [
    "x = [i / 8 for i in range(9)]\n",
    "y = [0., 0.021470, 0.293050, 0.494105, 0.541341, 0.516855, 0.468617, 0.416531, 0.367879]\n",
    "print(x)\n",
    "print(y)"
   ]
  },
  {
   "cell_type": "markdown",
   "metadata": {},
   "source": [
    "Значения для первых частей задания"
   ]
  },
  {
   "cell_type": "code",
   "execution_count": 11,
   "metadata": {},
   "outputs": [
    {
     "name": "stdout",
     "output_type": "stream",
     "text": [
      "[0.0, 0.25, 0.5, 0.75, 1.0] [0.0, 0.29305, 0.541341, 0.468617, 0.367879]\n"
     ]
    }
   ],
   "source": [
    "x_s = x[::2]\n",
    "y_s = y[::2]\n",
    "print(x_s, y_s)"
   ]
  },
  {
   "cell_type": "markdown",
   "metadata": {},
   "source": [
    "# Часть 1\n",
    "Найти $f'\\left( x_3 \\right)$ методом неопределённых коэффициентов"
   ]
  },
  {
   "cell_type": "code",
   "execution_count": 12,
   "metadata": {},
   "outputs": [
    {
     "data": {
      "text/plain": [
       "[Fraction(0, 1),\n",
       " Fraction(1, 4),\n",
       " Fraction(1, 2),\n",
       " Fraction(3, 4),\n",
       " Fraction(1, 1)]"
      ]
     },
     "execution_count": 12,
     "metadata": {},
     "output_type": "execute_result"
    }
   ],
   "source": [
    "x_vals = list(map(Fraction, x_s))\n",
    "x_vals"
   ]
  },
  {
   "cell_type": "code",
   "execution_count": 13,
   "metadata": {},
   "outputs": [
    {
     "data": {
      "text/plain": [
       "Fraction(1, 4)"
      ]
     },
     "execution_count": 13,
     "metadata": {},
     "output_type": "execute_result"
    }
   ],
   "source": [
    "x_0 = Fraction(x[2])\n",
    "x_0"
   ]
  },
  {
   "cell_type": "markdown",
   "metadata": {},
   "source": [
    "Разложение по формуле Тейлора: $f \\left( x \\right) = f \\left( x_0 \\right) + f' \\left( x_0 \\right) \\left( x-x_0 \\right) + \\frac{f'' \\left( x_0 \\right)}{2} {\\left( x-x_0 \\right)}^2 + \\dots + \\frac{f^{\\left( n \\right)} \\left( x_0 \\right)}{n!} {\\left( x-x_0 \\right)}^n + \\frac{f^{\\left( n+1 \\right)} \\left( \\xi \\right)}{\\left( n+1 \\right)!} {\\left( x-x_0 \\right)}^{n+1}$"
   ]
  },
  {
   "cell_type": "code",
   "execution_count": 14,
   "metadata": {},
   "outputs": [],
   "source": [
    "def get_taylor_coefficients(x, x0, num):\n",
    "    delta = x - x0\n",
    "    coeff = [Fraction(1)]\n",
    "    for i in range(1, num):\n",
    "        coeff.append(coeff[-1] * delta / i)\n",
    "    return coeff\n"
   ]
  },
  {
   "cell_type": "code",
   "execution_count": 52,
   "metadata": {},
   "outputs": [
    {
     "data": {
      "text/plain": [
       "[[Fraction(1, 1),\n",
       "  Fraction(-1, 4),\n",
       "  Fraction(1, 32),\n",
       "  Fraction(-1, 384),\n",
       "  Fraction(1, 6144),\n",
       "  Fraction(-1, 122880)],\n",
       " [Fraction(1, 1),\n",
       "  Fraction(0, 1),\n",
       "  Fraction(0, 1),\n",
       "  Fraction(0, 1),\n",
       "  Fraction(0, 1),\n",
       "  Fraction(0, 1)],\n",
       " [Fraction(1, 1),\n",
       "  Fraction(1, 4),\n",
       "  Fraction(1, 32),\n",
       "  Fraction(1, 384),\n",
       "  Fraction(1, 6144),\n",
       "  Fraction(1, 122880)],\n",
       " [Fraction(1, 1),\n",
       "  Fraction(1, 2),\n",
       "  Fraction(1, 8),\n",
       "  Fraction(1, 48),\n",
       "  Fraction(1, 384),\n",
       "  Fraction(1, 3840)],\n",
       " [Fraction(1, 1),\n",
       "  Fraction(3, 4),\n",
       "  Fraction(9, 32),\n",
       "  Fraction(9, 128),\n",
       "  Fraction(27, 2048),\n",
       "  Fraction(81, 40960)]]"
      ]
     },
     "execution_count": 52,
     "metadata": {},
     "output_type": "execute_result"
    }
   ],
   "source": [
    "taylor = [get_taylor_coefficients(x, x_0, len(x_vals) + 1) for x in x_vals]\n",
    "taylor"
   ]
  },
  {
   "cell_type": "code",
   "execution_count": 53,
   "metadata": {},
   "outputs": [
    {
     "data": {
      "text/plain": [
       "[[Fraction(-1, 4), Fraction(1, 4), Fraction(1, 2), Fraction(3, 4)],\n",
       " [Fraction(1, 32), Fraction(1, 32), Fraction(1, 8), Fraction(9, 32)],\n",
       " [Fraction(-1, 384), Fraction(1, 384), Fraction(1, 48), Fraction(9, 128)],\n",
       " [Fraction(1, 6144), Fraction(1, 6144), Fraction(1, 384), Fraction(27, 2048)]]"
      ]
     },
     "execution_count": 53,
     "metadata": {},
     "output_type": "execute_result"
    }
   ],
   "source": [
    "matrix = []\n",
    "for i in range(1, len(x_vals)):\n",
    "    matrix.append([])\n",
    "    for j in range(len(x_vals)):\n",
    "        if x_vals[j] == x_0:\n",
    "            continue\n",
    "        matrix[-1].append(taylor[j][i])\n",
    "matrix"
   ]
  },
  {
   "cell_type": "code",
   "execution_count": 54,
   "metadata": {},
   "outputs": [
    {
     "data": {
      "text/plain": [
       "[Fraction(1, 1), Fraction(0, 1), Fraction(0, 1), Fraction(0, 1)]"
      ]
     },
     "execution_count": 54,
     "metadata": {},
     "output_type": "execute_result"
    }
   ],
   "source": [
    "column = [Fraction(0)] * (len(x_vals) - 1)\n",
    "column[0] = Fraction(1)\n",
    "column"
   ]
  },
  {
   "cell_type": "code",
   "execution_count": 55,
   "metadata": {},
   "outputs": [
    {
     "data": {
      "text/plain": [
       "[Fraction(-1, 1), Fraction(6, 1), Fraction(-2, 1), Fraction(1, 3)]"
      ]
     },
     "execution_count": 55,
     "metadata": {},
     "output_type": "execute_result"
    }
   ],
   "source": [
    "coefs = solve(matrix, column)\n",
    "coefs"
   ]
  },
  {
   "cell_type": "code",
   "execution_count": 56,
   "metadata": {},
   "outputs": [
    {
     "data": {
      "text/plain": [
       "[Fraction(-1, 1),\n",
       " Fraction(-10, 3),\n",
       " Fraction(6, 1),\n",
       " Fraction(-2, 1),\n",
       " Fraction(1, 3)]"
      ]
     },
     "execution_count": 56,
     "metadata": {},
     "output_type": "execute_result"
    }
   ],
   "source": [
    "it = iter(coefs)\n",
    "coefs = [next(it) if x_vals[i] != x_0 else -sum(coefs) for i in range(len(x_vals))]\n",
    "coefs"
   ]
  },
  {
   "cell_type": "code",
   "execution_count": 57,
   "metadata": {},
   "outputs": [
    {
     "name": "stdout",
     "output_type": "stream",
     "text": [
      "(-1)*f(x_1) + (-10/3)*f(x_2) + (6)*f(x_3) + (-2)*f(x_4) + (1/3)*f(x_5)\n"
     ]
    }
   ],
   "source": [
    "print(*['({})*f(x_{})'.format(coefs[i], i + 1) for i in range(len(coefs))], sep=' + ')"
   ]
  },
  {
   "cell_type": "markdown",
   "metadata": {},
   "source": [
    "Итак, мы получили следующую приближённую формулу: $f' \\left( x_2 \\right) \\approx -f \\left( x_1 \\right) - \\frac{10}{3} f \\left( x_2 \\right) + 6 f \\left( x_3 \\right) - 2 f \\left( x_4 \\right) + \\frac{1}{3} f \\left( x_5 \\right)$"
   ]
  },
  {
   "cell_type": "markdown",
   "metadata": {},
   "source": [
    "Тогда вычислим значение $f' \\left( x_2 \\right)$ (или $f' \\left( x_3 \\right)$ в изначальных обозначениях)"
   ]
  },
  {
   "cell_type": "code",
   "execution_count": 58,
   "metadata": {
    "scrolled": true
   },
   "outputs": [
    {
     "name": "stdout",
     "output_type": "stream",
     "text": [
      "1.4566\n"
     ]
    }
   ],
   "source": [
    "value = sum(map(lambda x, y: x * y, coefs, y_s))\n",
    "print(f'{value:.6}')"
   ]
  },
  {
   "cell_type": "code",
   "execution_count": 60,
   "metadata": {},
   "outputs": [
    {
     "data": {
      "text/plain": [
       "Fraction(1, 5120)"
      ]
     },
     "execution_count": 60,
     "metadata": {},
     "output_type": "execute_result"
    }
   ],
   "source": [
    "sum(map(lambda a, x: a[-1] * x, taylor, coefs))"
   ]
  },
  {
   "cell_type": "code",
   "execution_count": null,
   "metadata": {},
   "outputs": [],
   "source": []
  }
 ],
 "metadata": {
  "kernelspec": {
   "display_name": "Python 3",
   "language": "python",
   "name": "python3"
  },
  "language_info": {
   "codemirror_mode": {
    "name": "ipython",
    "version": 3
   },
   "file_extension": ".py",
   "mimetype": "text/x-python",
   "name": "python",
   "nbconvert_exporter": "python",
   "pygments_lexer": "ipython3",
   "version": "3.7.0"
  }
 },
 "nbformat": 4,
 "nbformat_minor": 1
}
