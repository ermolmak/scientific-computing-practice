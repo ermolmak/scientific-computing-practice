{
 "cells": [
  {
   "cell_type": "code",
   "execution_count": 1,
   "metadata": {},
   "outputs": [],
   "source": [
    "from fractions import Fraction\n",
    "from collections import namedtuple\n"
   ]
  },
  {
   "cell_type": "markdown",
   "metadata": {
    "collapsed": true
   },
   "source": [
    "Приведение матрицы к ступенчатому виду методом Гаусса. Предполагается, что элементы имеют тип <code>fractions.Fraction</code>."
   ]
  },
  {
   "cell_type": "code",
   "execution_count": 2,
   "metadata": {},
   "outputs": [],
   "source": [
    "Swap = namedtuple('Swap', ['swap_type', 'first', 'second'])\n",
    "RowAddition = namedtuple('RowAddition', ['source', 'target', 'coefficient'])\n",
    "MaxValueWithPlace = namedtuple('MaxValueWithPlace', ['place', 'value'])\n",
    "\n",
    "\n",
    "def check_matrix(m):\n",
    "    if not isinstance(m, list):\n",
    "        raise TypeError(\"matrix must be 'list' of 'list's of 'Fraction's\")\n",
    "    if len(m) == 0:\n",
    "        raise ValueError('empty matrix')\n",
    "    for line in m:\n",
    "        if not isinstance(line, list):\n",
    "            raise TypeError(\"matrix must be 'list' of 'list's of 'Fraction's\")\n",
    "        if not all(map(lambda x: isinstance(x, Fraction))):\n",
    "            raise TypeError(\"matrix must be 'list' of 'list's of 'Fraction's\")\n",
    "    row_len = len(m[0])\n",
    "    if row_len == 0 or any(map(lambda x: len(x) != row_len, m)):\n",
    "        raise ValueError('all rows must have constant non-zero length')\n",
    "\n",
    "\n",
    "def swap_rows(m, i, j):\n",
    "    m[i], m[j] = m[j], m[i]\n",
    "\n",
    "\n",
    "def swap_columns(m, i, j):\n",
    "    for row in m:\n",
    "        row[i], row[j] = row[j], row[i]\n",
    "\n",
    "\n",
    "def add_row(matrix, source, target, coefficient):\n",
    "    for i in range(len(matrix[0])):\n",
    "        matrix[target][i] += coefficient * matrix[source][i]\n",
    "\n",
    "\n",
    "def find_max(m, start):\n",
    "    res = MaxValueWithPlace(place=(start, start), value=abs(m[start][start]))\n",
    "    for i in range(start, len(m)):\n",
    "        for j in range(start, len(m[i])):\n",
    "            current_value = abs(m[i][j])\n",
    "            if current_value > res.value:\n",
    "                res = MaxValueWithPlace(place=(i, j), value=current_value)\n",
    "    return res\n",
    "\n",
    "\n",
    "def to_row_echelon_form(m):\n",
    "    check_matrix(m)\n",
    "    actions = []\n",
    "    for i in range(min(len(m), len(m[0]))):\n",
    "        max_elem = find_max(m, i)\n",
    "        max_row, max_column = max_elem.place\n",
    "\n",
    "        if max_elem.value == 0:\n",
    "            return actions\n",
    "\n",
    "        if max_row != i:\n",
    "            actions.append(Swap(swap_type='row', first=i,\n",
    "                                second=max_row))\n",
    "            swap_rows(m, i, max_row)\n",
    "\n",
    "        if max_column != i:\n",
    "            actions.append(Swap(swap_type='column', first=i,\n",
    "                                second=max_column))\n",
    "            swap_columns(m, i, max_column)\n",
    "\n",
    "        for row in range(i + 1, len(m)):\n",
    "            if m[row][i] == 0:\n",
    "                continue\n",
    "            coef = -m[row][i] / m[i][i]\n",
    "            actions.append(RowAddition(source=i, target=row, coefficient=coef))\n",
    "            add_row(m, i, row, coef)\n",
    "\n",
    "    return actions\n",
    "\n",
    "\n",
    "def solve(matrix, free_column):\n",
    "    actions = to_row_echelon_form(matrix)\n"
   ]
  },
  {
   "cell_type": "code",
   "execution_count": null,
   "metadata": {},
   "outputs": [],
   "source": []
  }
 ],
 "metadata": {
  "kernelspec": {
   "display_name": "Python 2",
   "language": "python",
   "name": "python2"
  },
  "language_info": {
   "codemirror_mode": {
    "name": "ipython",
    "version": 2
   },
   "file_extension": ".py",
   "mimetype": "text/x-python",
   "name": "python",
   "nbconvert_exporter": "python",
   "pygments_lexer": "ipython2",
   "version": "2.7.6"
  }
 },
 "nbformat": 4,
 "nbformat_minor": 0
}
